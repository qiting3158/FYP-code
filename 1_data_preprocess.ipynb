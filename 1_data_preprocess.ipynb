{
 "cells": [
  {
   "cell_type": "code",
   "execution_count": 23,
   "id": "c9c23945",
   "metadata": {},
   "outputs": [
    {
     "data": {
      "text/html": [
       "<div>\n",
       "<style scoped>\n",
       "    .dataframe tbody tr th:only-of-type {\n",
       "        vertical-align: middle;\n",
       "    }\n",
       "\n",
       "    .dataframe tbody tr th {\n",
       "        vertical-align: top;\n",
       "    }\n",
       "\n",
       "    .dataframe thead th {\n",
       "        text-align: right;\n",
       "    }\n",
       "</style>\n",
       "<table border=\"1\" class=\"dataframe\">\n",
       "  <thead>\n",
       "    <tr style=\"text-align: right;\">\n",
       "      <th></th>\n",
       "      <th>job_title</th>\n",
       "      <th>location</th>\n",
       "      <th>career_level</th>\n",
       "      <th>experience</th>\n",
       "      <th>job_type</th>\n",
       "      <th>job_description</th>\n",
       "    </tr>\n",
       "  </thead>\n",
       "  <tbody>\n",
       "    <tr>\n",
       "      <th>0</th>\n",
       "      <td>Data Analyst</td>\n",
       "      <td>Johor Bahru</td>\n",
       "      <td>Non-Executive</td>\n",
       "      <td>Full-Time</td>\n",
       "      <td>Computer/Information Technology, IT-Software</td>\n",
       "      <td>ZEMPOT MALAYSIA SDN BHD is a newly branched co...</td>\n",
       "    </tr>\n",
       "    <tr>\n",
       "      <th>1</th>\n",
       "      <td>Director- Data Analytics</td>\n",
       "      <td>Petaling Jaya</td>\n",
       "      <td>Senior Manager</td>\n",
       "      <td>12 years</td>\n",
       "      <td>Full-Time</td>\n",
       "      <td>Job overviewWe are looking for a highly motiva...</td>\n",
       "    </tr>\n",
       "    <tr>\n",
       "      <th>2</th>\n",
       "      <td>Solutions Architect - Data Lake Specialist (Ba...</td>\n",
       "      <td>Kuala Lumpur</td>\n",
       "      <td>Senior Executive</td>\n",
       "      <td>8 years</td>\n",
       "      <td>Full-Time</td>\n",
       "      <td>We are looking for a Solutions Architect who s...</td>\n",
       "    </tr>\n",
       "    <tr>\n",
       "      <th>3</th>\n",
       "      <td>Automotive Analyst – Vehicle Valuation</td>\n",
       "      <td>Kuala Lumpur</td>\n",
       "      <td>Senior Executive</td>\n",
       "      <td>3 years</td>\n",
       "      <td>Full-Time</td>\n",
       "      <td>DescriptionThe Automotive Analyst will be acco...</td>\n",
       "    </tr>\n",
       "    <tr>\n",
       "      <th>4</th>\n",
       "      <td>IT Business Analyst</td>\n",
       "      <td>Kuala Lumpur</td>\n",
       "      <td>Senior Executive</td>\n",
       "      <td>4 years</td>\n",
       "      <td>Full-Time</td>\n",
       "      <td>Position Objective:-Responsible to be the IT B...</td>\n",
       "    </tr>\n",
       "  </tbody>\n",
       "</table>\n",
       "</div>"
      ],
      "text/plain": [
       "                                           job_title       location  \\\n",
       "0                                       Data Analyst    Johor Bahru   \n",
       "1                           Director- Data Analytics  Petaling Jaya   \n",
       "2  Solutions Architect - Data Lake Specialist (Ba...   Kuala Lumpur   \n",
       "3             Automotive Analyst – Vehicle Valuation   Kuala Lumpur   \n",
       "4                                IT Business Analyst   Kuala Lumpur   \n",
       "\n",
       "       career_level experience                                      job_type  \\\n",
       "0     Non-Executive  Full-Time  Computer/Information Technology, IT-Software   \n",
       "1    Senior Manager   12 years                                     Full-Time   \n",
       "2  Senior Executive    8 years                                     Full-Time   \n",
       "3  Senior Executive    3 years                                     Full-Time   \n",
       "4  Senior Executive    4 years                                     Full-Time   \n",
       "\n",
       "                                     job_description  \n",
       "0  ZEMPOT MALAYSIA SDN BHD is a newly branched co...  \n",
       "1  Job overviewWe are looking for a highly motiva...  \n",
       "2  We are looking for a Solutions Architect who s...  \n",
       "3  DescriptionThe Automotive Analyst will be acco...  \n",
       "4  Position Objective:-Responsible to be the IT B...  "
      ]
     },
     "execution_count": 23,
     "metadata": {},
     "output_type": "execute_result"
    }
   ],
   "source": [
    "import pandas as pd\n",
    "import numpy as np\n",
    "# Load data\n",
    "df = pd.read_csv('Data/1-collected data.csv')\n",
    "df.head()"
   ]
  },
  {
   "cell_type": "code",
   "execution_count": 24,
   "id": "b2eadc94-6bae-4756-9cec-595ddbe19f7d",
   "metadata": {},
   "outputs": [
    {
     "name": "stdout",
     "output_type": "stream",
     "text": [
      "The number of rows: 15504  \n",
      "\n",
      "The number of columns: 6  \n",
      "\n",
      "Missing value:  \n",
      " job_title          1941\n",
      "location              0\n",
      "career_level          0\n",
      "experience            0\n",
      "job_type           1231\n",
      "job_description       0\n",
      "dtype: int64 \n",
      "\n",
      "Duplicated value:  2431 \n",
      "\n"
     ]
    }
   ],
   "source": [
    "# Number of rows and columns\n",
    "print(\"The number of rows: {0} \".format(df.shape[0]), '\\n')\n",
    "print(\"The number of columns: {0} \".format(df.shape[1]), '\\n')\n",
    "\n",
    "# Missing value\n",
    "print(\"Missing value: \", '\\n',df.isna().sum(), '\\n')\n",
    "\n",
    "# Duplicated value\n",
    "print(\"Duplicated value: \",df.duplicated().sum(), '\\n')"
   ]
  },
  {
   "cell_type": "markdown",
   "id": "fa368100",
   "metadata": {
    "editable": true,
    "slideshow": {
     "slide_type": ""
    },
    "tags": []
   },
   "source": [
    "## Data Cleaning "
   ]
  },
  {
   "cell_type": "markdown",
   "id": "85446bad",
   "metadata": {},
   "source": [
    "### 1. regularize data format\n",
    "convert to lower case"
   ]
  },
  {
   "cell_type": "code",
   "execution_count": 25,
   "id": "4d56a068",
   "metadata": {},
   "outputs": [
    {
     "data": {
      "text/html": [
       "<div>\n",
       "<style scoped>\n",
       "    .dataframe tbody tr th:only-of-type {\n",
       "        vertical-align: middle;\n",
       "    }\n",
       "\n",
       "    .dataframe tbody tr th {\n",
       "        vertical-align: top;\n",
       "    }\n",
       "\n",
       "    .dataframe thead th {\n",
       "        text-align: right;\n",
       "    }\n",
       "</style>\n",
       "<table border=\"1\" class=\"dataframe\">\n",
       "  <thead>\n",
       "    <tr style=\"text-align: right;\">\n",
       "      <th></th>\n",
       "      <th>job_title</th>\n",
       "      <th>location</th>\n",
       "      <th>career_level</th>\n",
       "      <th>experience</th>\n",
       "      <th>job_type</th>\n",
       "      <th>job_description</th>\n",
       "    </tr>\n",
       "  </thead>\n",
       "  <tbody>\n",
       "    <tr>\n",
       "      <th>0</th>\n",
       "      <td>data analyst</td>\n",
       "      <td>johor bahru</td>\n",
       "      <td>non-executive</td>\n",
       "      <td>full-time</td>\n",
       "      <td>computer/information technology, it-software</td>\n",
       "      <td>ZEMPOT MALAYSIA SDN BHD is a newly branched co...</td>\n",
       "    </tr>\n",
       "    <tr>\n",
       "      <th>1</th>\n",
       "      <td>director- data analytics</td>\n",
       "      <td>petaling jaya</td>\n",
       "      <td>senior manager</td>\n",
       "      <td>12 years</td>\n",
       "      <td>full-time</td>\n",
       "      <td>Job overviewWe are looking for a highly motiva...</td>\n",
       "    </tr>\n",
       "    <tr>\n",
       "      <th>2</th>\n",
       "      <td>solutions architect - data lake specialist (ba...</td>\n",
       "      <td>kuala lumpur</td>\n",
       "      <td>senior executive</td>\n",
       "      <td>8 years</td>\n",
       "      <td>full-time</td>\n",
       "      <td>We are looking for a Solutions Architect who s...</td>\n",
       "    </tr>\n",
       "    <tr>\n",
       "      <th>3</th>\n",
       "      <td>automotive analyst – vehicle valuation</td>\n",
       "      <td>kuala lumpur</td>\n",
       "      <td>senior executive</td>\n",
       "      <td>3 years</td>\n",
       "      <td>full-time</td>\n",
       "      <td>DescriptionThe Automotive Analyst will be acco...</td>\n",
       "    </tr>\n",
       "    <tr>\n",
       "      <th>4</th>\n",
       "      <td>it business analyst</td>\n",
       "      <td>kuala lumpur</td>\n",
       "      <td>senior executive</td>\n",
       "      <td>4 years</td>\n",
       "      <td>full-time</td>\n",
       "      <td>Position Objective:-Responsible to be the IT B...</td>\n",
       "    </tr>\n",
       "  </tbody>\n",
       "</table>\n",
       "</div>"
      ],
      "text/plain": [
       "                                           job_title       location  \\\n",
       "0                                       data analyst    johor bahru   \n",
       "1                           director- data analytics  petaling jaya   \n",
       "2  solutions architect - data lake specialist (ba...   kuala lumpur   \n",
       "3             automotive analyst – vehicle valuation   kuala lumpur   \n",
       "4                                it business analyst   kuala lumpur   \n",
       "\n",
       "       career_level experience                                      job_type  \\\n",
       "0     non-executive  full-time  computer/information technology, it-software   \n",
       "1    senior manager   12 years                                     full-time   \n",
       "2  senior executive    8 years                                     full-time   \n",
       "3  senior executive    3 years                                     full-time   \n",
       "4  senior executive    4 years                                     full-time   \n",
       "\n",
       "                                     job_description  \n",
       "0  ZEMPOT MALAYSIA SDN BHD is a newly branched co...  \n",
       "1  Job overviewWe are looking for a highly motiva...  \n",
       "2  We are looking for a Solutions Architect who s...  \n",
       "3  DescriptionThe Automotive Analyst will be acco...  \n",
       "4  Position Objective:-Responsible to be the IT B...  "
      ]
     },
     "execution_count": 25,
     "metadata": {},
     "output_type": "execute_result"
    }
   ],
   "source": [
    "#to lowercase\n",
    "df['job_title'] = df['job_title'].str.lower()\n",
    "df['location'] = df['location'].str.lower()\n",
    "#df['job_description'] = df['job_description'].str.lower()\n",
    "df['career_level'] = df['career_level'].str.lower()\n",
    "df['experience'] = df['experience'].str.lower()\n",
    "df['job_type'] = df['job_type'].str.lower()\n",
    "df.head()"
   ]
  },
  {
   "cell_type": "markdown",
   "id": "d2b06207-9f98-4993-8b51-243138db847d",
   "metadata": {},
   "source": [
    "### 2. drop missing values where job title is empty "
   ]
  },
  {
   "cell_type": "code",
   "execution_count": 26,
   "id": "03019356",
   "metadata": {},
   "outputs": [
    {
     "data": {
      "text/plain": [
       "(13563, 6)"
      ]
     },
     "execution_count": 26,
     "metadata": {},
     "output_type": "execute_result"
    }
   ],
   "source": [
    "#Drop missing value in job title  \n",
    "df = df[df['job_title'].notna()]\n",
    "df.shape"
   ]
  },
  {
   "cell_type": "markdown",
   "id": "6d9c4b9c-d453-40f3-bfb2-51fd89694ffb",
   "metadata": {},
   "source": [
    "### 3. fill missing values by 'not specified'"
   ]
  },
  {
   "cell_type": "code",
   "execution_count": 27,
   "id": "eea927ca",
   "metadata": {},
   "outputs": [
    {
     "data": {
      "text/plain": [
       "job_type\n",
       "full-time        10650\n",
       "not specified     1230\n",
       "contract          1011\n",
       "internship         503\n",
       "temporary          135\n",
       "part-time           34\n",
       "Name: count, dtype: int64"
      ]
     },
     "execution_count": 27,
     "metadata": {},
     "output_type": "execute_result"
    }
   ],
   "source": [
    "type_list = ['full-time', 'internship', 'contract','part-time', 'temporary']                                                 \n",
    "for t in type_list:\n",
    "    ie =  df[df['experience'] == t].index\n",
    "    for i in list(ie):\n",
    "        df['job_type'][i] = t\n",
    "df['job_type'] = df['job_type'].fillna('not specified')\n",
    "df.job_type.value_counts()"
   ]
  },
  {
   "cell_type": "markdown",
   "id": "f8dacff8",
   "metadata": {},
   "source": [
    "'experience' only contain 'year' information:"
   ]
  },
  {
   "cell_type": "code",
   "execution_count": 28,
   "id": "511e24c2",
   "metadata": {},
   "outputs": [
    {
     "data": {
      "text/plain": [
       "experience\n",
       "not specified    7120\n",
       "2                1431\n",
       "3                1425\n",
       "1                1425\n",
       "5                1123\n",
       "4                 370\n",
       "8                 188\n",
       "10                167\n",
       "6                 154\n",
       "7                 127\n",
       "15                 13\n",
       "12                 11\n",
       "9                   5\n",
       "13                  2\n",
       "14                  1\n",
       "20                  1\n",
       "Name: count, dtype: int64"
      ]
     },
     "execution_count": 28,
     "metadata": {},
     "output_type": "execute_result"
    }
   ],
   "source": [
    "dump_list = list(df[~df['experience'].str.contains('year')].index)\n",
    "for i in dump_list:\n",
    "    df['experience'][i]  = 'not specified'\n",
    "for i in df.index:\n",
    "    x = df['experience'][i]\n",
    "    if 'year' in x:\n",
    "        df.loc[i,'experience'] = x.split(' ')[0]\n",
    "df.experience.value_counts()"
   ]
  },
  {
   "cell_type": "markdown",
   "id": "80b275e8-d826-4177-96ee-0efe17a3cf39",
   "metadata": {},
   "source": [
    "### 4. standardize location: keep only one job location"
   ]
  },
  {
   "cell_type": "code",
   "execution_count": 29,
   "id": "d421ee5c-0744-4c0c-a9e1-c7be7259dea9",
   "metadata": {},
   "outputs": [],
   "source": [
    "df['location'] = df['location'].str.split('/').str[0]\n",
    "df['location'] = df['location'].str.split('-').str[0]"
   ]
  },
  {
   "cell_type": "code",
   "execution_count": 30,
   "id": "cfeb063c-34ad-41d5-9919-7b9fd3ce65cb",
   "metadata": {},
   "outputs": [],
   "source": [
    "for i in df.index:\n",
    "    location = df['location'][i]\n",
    "    if 'multiple work locations' in location:\n",
    "        df.loc[i,'location'] = \"multiple work locations\""
   ]
  },
  {
   "cell_type": "markdown",
   "id": "0df5c3ca-1eac-4968-b379-ecd8d675fb23",
   "metadata": {},
   "source": [
    "### 5. Drop duplicated value"
   ]
  },
  {
   "cell_type": "code",
   "execution_count": 31,
   "id": "d19e5fc5",
   "metadata": {},
   "outputs": [
    {
     "name": "stdout",
     "output_type": "stream",
     "text": [
      "Duplicated value:  2379 \n",
      "\n"
     ]
    }
   ],
   "source": [
    "print(\"Duplicated value: \",df.duplicated().sum(), '\\n')\n",
    "df.drop_duplicates(inplace=True)"
   ]
  },
  {
   "cell_type": "markdown",
   "id": "02fd5c22-fa57-4f94-8a2a-1f0c03056b29",
   "metadata": {},
   "source": [
    "## After data cleaning"
   ]
  },
  {
   "cell_type": "code",
   "execution_count": 32,
   "id": "23bef2f0",
   "metadata": {},
   "outputs": [
    {
     "name": "stdout",
     "output_type": "stream",
     "text": [
      "shape:  (11184, 6) \n",
      "\n",
      "Duplicated value:  0 \n",
      "\n",
      "Missing value:  \n",
      " job_title          0\n",
      "location           0\n",
      "career_level       0\n",
      "experience         0\n",
      "job_type           0\n",
      "job_description    0\n",
      "dtype: int64\n"
     ]
    }
   ],
   "source": [
    "print('shape: ', df.shape, '\\n')\n",
    "print(\"Duplicated value: \", df.duplicated().sum() , '\\n')\n",
    "print(\"Missing value: \", '\\n', df.isna().sum())"
   ]
  },
  {
   "cell_type": "code",
   "execution_count": 44,
   "id": "1b394eef-cf85-416e-b0a9-bdd2d106f1dc",
   "metadata": {},
   "outputs": [],
   "source": [
    "#df.to_csv('Data/2-preprocessed data.csv', index=False)"
   ]
  },
  {
   "cell_type": "code",
   "execution_count": null,
   "id": "baf66054-3ff0-43c6-b0b7-aad472806e92",
   "metadata": {},
   "outputs": [],
   "source": []
  }
 ],
 "metadata": {
  "kernelspec": {
   "display_name": "Python 3 (ipykernel)",
   "language": "python",
   "name": "python3"
  },
  "language_info": {
   "codemirror_mode": {
    "name": "ipython",
    "version": 3
   },
   "file_extension": ".py",
   "mimetype": "text/x-python",
   "name": "python",
   "nbconvert_exporter": "python",
   "pygments_lexer": "ipython3",
   "version": "3.11.5"
  }
 },
 "nbformat": 4,
 "nbformat_minor": 5
}
